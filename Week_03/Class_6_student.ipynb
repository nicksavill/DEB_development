{
 "cells": [
  {
   "cell_type": "markdown",
   "id": "2432e28b",
   "metadata": {},
   "source": [
    "### An example data exploration to look at some aspects of plotting\n",
    "\n",
    "https://drawingfromdata.com/seaborn/matplotlib/visualization/rotate-axis-labels-matplotlib-seaborn.html\n",
    "\n",
    "Import the data on Darwin's finches from github\n",
    "\n"
   ]
  },
  {
   "cell_type": "markdown",
   "id": "7a42b51c",
   "metadata": {},
   "source": [
    "Cadena CD, Zapata F, Jiménez I. 2017. Issues and perspectives in species   \n",
    "delimitation using phenotypic data: Atlantean evolution in Darwin’s finches.    \n",
    "Systematic Biology (https://academic.oup.com/sysbio/article/doi/10.1093/sysbio/syx071/4102004/Issues-and-Perspectives-in-Species-Delimitation)"
   ]
  },
  {
   "cell_type": "markdown",
   "id": "fd9c553c",
   "metadata": {},
   "source": [
    "Plot the data to show how the new taxonomy differs from the old taxonomy."
   ]
  },
  {
   "cell_type": "code",
   "execution_count": 1,
   "id": "7057d606",
   "metadata": {},
   "outputs": [],
   "source": [
    "# Analysis modules\n",
    "import numpy as np\n",
    "import pandas as pd\n",
    "import matplotlib as mpl\n",
    "import matplotlib.pyplot as plt\n",
    "import seaborn as sns"
   ]
  },
  {
   "cell_type": "code",
   "execution_count": 229,
   "id": "fc391a20",
   "metadata": {},
   "outputs": [],
   "source": [
    "%matplotlib inline"
   ]
  },
  {
   "cell_type": "markdown",
   "id": "b2a3a269",
   "metadata": {},
   "source": [
    "Use ! wget to download the data from github (https://github.com/zapataf/geospiza_morphology_2017/raw/master/CAS_Swarth_Geospiza.csv)"
   ]
  },
  {
   "cell_type": "code",
   "execution_count": null,
   "id": "51239900",
   "metadata": {},
   "outputs": [],
   "source": []
  },
  {
   "cell_type": "markdown",
   "id": "fda5c1a9",
   "metadata": {},
   "source": [
    "Check the file structure using\n",
    "\n",
    "    ! head -3 my_file\n",
    "    \n",
    "This unix command shows the first 3 lines of a file and will help you decide on the right command to use to read it into pandas."
   ]
  },
  {
   "cell_type": "code",
   "execution_count": null,
   "id": "006af39a",
   "metadata": {},
   "outputs": [],
   "source": []
  },
  {
   "cell_type": "code",
   "execution_count": null,
   "id": "745d9239",
   "metadata": {},
   "outputs": [],
   "source": []
  },
  {
   "cell_type": "markdown",
   "id": "97dd53de",
   "metadata": {},
   "source": [
    "Use df.head(3) and df.info() to find out about the dataframe."
   ]
  },
  {
   "cell_type": "code",
   "execution_count": null,
   "id": "41eb653d",
   "metadata": {},
   "outputs": [],
   "source": []
  },
  {
   "cell_type": "markdown",
   "id": "c1254fbe",
   "metadata": {},
   "source": [
    "Check the types of each column of data - change any which need it using:\n",
    "    \n",
    "    df['Column_name'] = df['Column_name'].astype('int') \n",
    "    \n"
   ]
  },
  {
   "cell_type": "code",
   "execution_count": null,
   "id": "73e4ff7e",
   "metadata": {},
   "outputs": [],
   "source": []
  },
  {
   "cell_type": "markdown",
   "id": "b2a743fb",
   "metadata": {},
   "source": [
    "Do we have measures from both sexes?  We can use unique to see the different values in column'Sex'."
   ]
  },
  {
   "cell_type": "markdown",
   "id": "304667bf",
   "metadata": {},
   "source": [
    "Check the values in each column using:\n",
    "    \n",
    "    df['Column_name'].unique()\n",
    "    \n",
    "You can get a count of the number of uniques values in each column using:\n",
    "\n",
    "    df['Column_name'].unique().size"
   ]
  },
  {
   "cell_type": "code",
   "execution_count": null,
   "id": "b2e83e90",
   "metadata": {},
   "outputs": [],
   "source": []
  },
  {
   "cell_type": "markdown",
   "id": "4d07d0c1",
   "metadata": {},
   "source": [
    "A very useful first examination of data is pairplot.  Pairplot plots all the numeric values against each other along with a histrogram of the distribution of each numeric value.  \n",
    "\n",
    "    sns.pairplot(data=df)\n",
    "    \n",
    "Like other seaborn commands you can use hue=\"Column_name\" to show more detail"
   ]
  },
  {
   "cell_type": "code",
   "execution_count": null,
   "id": "6882e131",
   "metadata": {},
   "outputs": [],
   "source": []
  },
  {
   "cell_type": "markdown",
   "id": "d064ef0f",
   "metadata": {},
   "source": [
    "Plot a histogram of Wing length coloured by Taxon using sns.histplot"
   ]
  },
  {
   "cell_type": "code",
   "execution_count": null,
   "id": "46d9c5c1",
   "metadata": {},
   "outputs": [],
   "source": []
  },
  {
   "cell_type": "markdown",
   "id": "17dea382",
   "metadata": {},
   "source": [
    "Make it broad and short = 20 by 5, using   \n",
    "\n",
    "    plt.figure(figsize=(X,Y))\n",
    "    \n",
    "Do the same to a displot, but this time using the seaborn internal settings of height and aspect"
   ]
  },
  {
   "cell_type": "markdown",
   "id": "a299ef65",
   "metadata": {},
   "source": [
    "It would be useful to plot the morphological metrics by one taxonomy and colour by annother.  Try comparing the distribution of wing sizes in each taxonomy using displot or catplot.  \n",
    "\n",
    "Don't forget that species names ought to be in italics, add this line to your code to rotate and italisicise the species names as x labels:\n",
    "\n",
    "    plt.xticks(rotation=45, style='italic')"
   ]
  },
  {
   "cell_type": "markdown",
   "id": "251c8e66",
   "metadata": {},
   "source": [
    "### Making a better plot.  \n"
   ]
  },
  {
   "cell_type": "markdown",
   "id": "469caee6",
   "metadata": {},
   "source": [
    "Which plot to use?  \n",
    "How to bring out the patterns in the data?"
   ]
  },
  {
   "cell_type": "markdown",
   "id": "4d430341",
   "metadata": {},
   "source": [
    "How to change size, shape, style?  \n",
    "Changing label fonts, orientation, location"
   ]
  },
  {
   "cell_type": "markdown",
   "id": "6bf79631",
   "metadata": {},
   "source": [
    "Which colours to use?  \n",
    "Hue, saturation, colour theory, continous colour gradients"
   ]
  },
  {
   "cell_type": "markdown",
   "id": "9b0743e2",
   "metadata": {},
   "source": [
    "For some plots it  might be easier to tidy the data and have a single column for morphologicial measurments.  Use:  \n",
    "\n",
    "    pd.melt"
   ]
  },
  {
   "cell_type": "code",
   "execution_count": null,
   "id": "edfdb909",
   "metadata": {},
   "outputs": [],
   "source": []
  },
  {
   "cell_type": "markdown",
   "id": "bff521c3",
   "metadata": {},
   "source": [
    "### Saving plots for further manipulation"
   ]
  },
  {
   "cell_type": "markdown",
   "id": "986308fb",
   "metadata": {},
   "source": [
    "Seaborn can't do everything.  Sometimes you need to further tweak a plot in another program.  You can export seaborn plot as a .png (big files, transparaency possible), .jpg (smaller files but lossy, no transparency) but the most flexible for futher editing is a vector format like .svg. add the folowing at the end of you code:\n",
    "\n",
    "    plt.savefig(\"plot.svg\")"
   ]
  },
  {
   "cell_type": "markdown",
   "id": "65a54d7c",
   "metadata": {},
   "source": [
    "Or you might want to make individual files for each plot so you can arrange them how you like.  Here's an example of a python function for generating plots for all the different morphologicial measuresments in a column called \"Morphology\" with values in \"measurement\"\n"
   ]
  },
  {
   "cell_type": "code",
   "execution_count": 22,
   "id": "11e04078",
   "metadata": {},
   "outputs": [],
   "source": [
    "#list of the uniques values in the collumn\n",
    "morph = df3['Morphology'].unique().tolist()"
   ]
  },
  {
   "cell_type": "code",
   "execution_count": 21,
   "id": "08f158cc",
   "metadata": {},
   "outputs": [],
   "source": [
    "#function to generate boxplots of measuremtns by New_Taxonomy\n",
    "def plot_me(morph):\n",
    "    #make the output fie name\n",
    "    filename = str(morph)+\".svg\"\n",
    "    #subset the dataframe to just the chosen morphology\n",
    "    df_sub = df[(df['Morphology']==morph)]\n",
    "    #plotting the figure\n",
    "    plt.figure() \n",
    "    chart = sns.catplot(data=df_sub, kind = \"box\", x=\"New_Taxonomy\", y=\"measurement\")\n",
    "    chart.set_xticklabels(rotation=65, horizontalalignment='right')\n",
    "    #saving to file\n",
    "    plt.savefig(filename)"
   ]
  },
  {
   "cell_type": "code",
   "execution_count": null,
   "id": "d6ca032a",
   "metadata": {},
   "outputs": [],
   "source": [
    "#Plotting loop\n",
    "for i in morph:\n",
    "    plot_me(i)"
   ]
  },
  {
   "cell_type": "markdown",
   "id": "cbecbdb1",
   "metadata": {},
   "source": [
    "You should have in your folder now a set of svg files ready to build into your figure"
   ]
  },
  {
   "cell_type": "code",
   "execution_count": null,
   "id": "bd23c3d8",
   "metadata": {},
   "outputs": [],
   "source": []
  }
 ],
 "metadata": {
  "kernelspec": {
   "display_name": "Python 3 (ipykernel)",
   "language": "python",
   "name": "python3"
  },
  "language_info": {
   "codemirror_mode": {
    "name": "ipython",
    "version": 3
   },
   "file_extension": ".py",
   "mimetype": "text/x-python",
   "name": "python",
   "nbconvert_exporter": "python",
   "pygments_lexer": "ipython3",
   "version": "3.8.13"
  }
 },
 "nbformat": 4,
 "nbformat_minor": 5
}
