{
 "cells": [
  {
   "cell_type": "markdown",
   "id": "6149d6ba",
   "metadata": {},
   "source": [
    "### Common problems in data form:   \n",
    "To show you how pandas can re-format data we'll work though a few awkward datasets.  \n",
    "  "
   ]
  },
  {
   "cell_type": "code",
   "execution_count": null,
   "id": "7a1d36b2",
   "metadata": {},
   "outputs": [],
   "source": [
    "# Analysis modules\n",
    "import numpy as np\n",
    "import pandas as pd\n",
    "import matplotlib as mpl\n",
    "import matplotlib.pyplot as plt\n",
    "import seaborn as sns"
   ]
  },
  {
   "cell_type": "markdown",
   "id": "947d3e16",
   "metadata": {},
   "source": [
    " #### Column headers are values, not variable names.   \n",
    " \n",
    " Read in Greenland_nests.csv"
   ]
  },
  {
   "cell_type": "code",
   "execution_count": null,
   "id": "369025ea",
   "metadata": {},
   "outputs": [],
   "source": []
  },
  {
   "cell_type": "markdown",
   "id": "306d97fb",
   "metadata": {},
   "source": [
    "This dataframe has 42 values arranged by three different values:  \n",
    "    \n",
    "    Nesting_Site  - one of 7 locations\n",
    "    Nests_Assessed - a count at each location\n",
    "    Chick_N_Frequency - frequencies for five possible levels at each location\n",
    "\n",
    "The *observations* are the chick count frequencies at each nesting site\n",
    "    \n",
    "*variables* are:\n",
    "    Nesting site is a catagorical variable (text string) \n",
    "    Chick number is a catagorical variable (becuase of the >3 class)  \n",
    "    Nests Assessed is a continous variable (integer), which is set for each nesting site."
   ]
  },
  {
   "cell_type": "markdown",
   "id": "8d0d29e6",
   "metadata": {},
   "source": [
    "Use melt to  make this a long form dataframe so that the values can be used correctly.  \n",
    "If you have time you could try making the chick number variable numeric rather than a string (assuming >3 is equal to 4)"
   ]
  },
  {
   "cell_type": "markdown",
   "id": "29e36635",
   "metadata": {},
   "source": [
    "Plot the data using sns.stripplot\n",
    "\n",
    "    sns.stripplot(x=\"Chick_N\", y=\"Freq\", hue=\"Nesting Site\", data=df2)"
   ]
  },
  {
   "cell_type": "markdown",
   "id": "4d0b6e2e",
   "metadata": {},
   "source": [
    "Might not be the loveliest graph (we will work more on this in later weeks) but all the data is there."
   ]
  },
  {
   "cell_type": "markdown",
   "id": "c75d53fa",
   "metadata": {},
   "source": [
    "#### Multiple variables are stored in one column.   \n",
    "B_conch_loc.csv is a list of specimen locations for *Begonia conchifolia*.  Latitiude and longitude have been listed together in the fourth column"
   ]
  },
  {
   "cell_type": "markdown",
   "id": "4d07ef55",
   "metadata": {},
   "source": [
    "The occurances of the plant are the observations (9 of them).  The variables are the country, location, latitude, longitude and reference.\n",
    "Reference has been split up into five fields, latitude and longitude have been combined into one.  We should need to combine the reference columns into one and split the lat and long.  We should probably add a header as well.\n"
   ]
  },
  {
   "cell_type": "markdown",
   "id": "dbdf364c",
   "metadata": {},
   "source": [
    "Specify no header when we read it in (use 'header=None')"
   ]
  },
  {
   "cell_type": "markdown",
   "id": "6f3f5b24",
   "metadata": {},
   "source": [
    "Check the types of data using 'df.dtypes'.  You can use .astype('string') to change the types of columns if needed."
   ]
  },
  {
   "cell_type": "code",
   "execution_count": null,
   "id": "b4ec7d96",
   "metadata": {},
   "outputs": [],
   "source": []
  },
  {
   "cell_type": "markdown",
   "id": "a3abb8fb",
   "metadata": {},
   "source": [
    "Use string management to combine columns into a new one.   You can use .astype('string') to change the types of columns if needed.  \n",
    "\n",
    "    df['new'] = df['old1'] + df['old2'].astype('string')"
   ]
  },
  {
   "cell_type": "markdown",
   "id": "65f10c68",
   "metadata": {},
   "source": [
    "Delete the old columns.  \n",
    "\n",
    "    df = df.drop(['old1', 'old2'], axis = 1)\n"
   ]
  },
  {
   "cell_type": "markdown",
   "id": "449ea44c",
   "metadata": {},
   "source": [
    "Split lat and long using .str.split() on the column.  Use n=1 to limit the number of splits to one, and 'expand=True' to return a dataframe rather than lists\n",
    "\n",
    "    df[['new1', 'new2']] = df['old'].str.split('delineator', n=1, expand=True)"
   ]
  },
  {
   "cell_type": "markdown",
   "id": "05ea397e",
   "metadata": {},
   "source": [
    "We can now drop the joint column and re-name the remaining columns"
   ]
  },
  {
   "cell_type": "code",
   "execution_count": null,
   "id": "8d4a0ebf",
   "metadata": {},
   "outputs": [],
   "source": []
  },
  {
   "cell_type": "markdown",
   "id": "afb0e524",
   "metadata": {},
   "source": [
    "This is now ready to do some GIS analysis with"
   ]
  },
  {
   "cell_type": "markdown",
   "id": "d2c01a78",
   "metadata": {},
   "source": [
    "#### Variables are stored in both rows and columns.   \n",
    "leaves.csv has counts of hairs on the abaxial (underside) and adaxial (upperside) of three leaves per plant along with data on expression pattern for three genes per plant and the plant's genotype.  \n",
    "This is a really horrible format in that we have six counts per plant, three abaxial in one row and three adaxial in annother row.  We also have data which is the same for each plant which is only listed on one row."
   ]
  },
  {
   "cell_type": "markdown",
   "id": "8b92badc",
   "metadata": {},
   "source": [
    "Let's deal first with filling in the missing data.  \n",
    "Check out the df.fillna() infomation on the pandas manual for how to deal with missing data.  We want to use last valid observation to fill in the NaN."
   ]
  },
  {
   "cell_type": "markdown",
   "id": "52eb44ed",
   "metadata": {},
   "source": [
    "Now we have all the data there we can deal with the format.\n",
    "\n",
    "    Each variable must have its own column.  \n",
    "    Each observation must have its own row.  \n",
    "    Each value must have its own cell.  \n",
    "   \n",
    "Variables: Plant, Genotype, Expression of each gene, Side_of_leaf, Sample_number, Each will have it's own column\n",
    "Observations: Hair counts "
   ]
  },
  {
   "cell_type": "markdown",
   "id": "4e7adb02",
   "metadata": {},
   "source": [
    "print out the columns to save typing using df.columns"
   ]
  },
  {
   "cell_type": "code",
   "execution_count": null,
   "id": "1783f031",
   "metadata": {},
   "outputs": [],
   "source": []
  },
  {
   "cell_type": "markdown",
   "id": "000e113e",
   "metadata": {},
   "source": [
    "id_vars shoud be the variables, Values will be 1,2,3  \n",
    "Use pd.melt to reformat with columns:\n",
    "Plant\tGenotype\tADH1\tSSC2\tSSC3\tSide\tSample\tCount"
   ]
  },
  {
   "cell_type": "code",
   "execution_count": null,
   "id": "a8a15723",
   "metadata": {},
   "outputs": [],
   "source": []
  },
  {
   "cell_type": "markdown",
   "id": "b2171a86",
   "metadata": {},
   "source": [
    "Use sns.catplot to show the difference betwen hair counts on the adaxial and abaxial sides of the leaf for the different genotypes.  \n",
    "\n",
    "    sns.catplot(x='Genotype', y='Count', hue='Side', data=df2, kind='bar')"
   ]
  },
  {
   "cell_type": "code",
   "execution_count": null,
   "id": "1853c8ab",
   "metadata": {},
   "outputs": [],
   "source": []
  },
  {
   "cell_type": "markdown",
   "id": "f23a402e",
   "metadata": {},
   "source": [
    "This is certainly long form.  We could make it more compact by averaging hair counts across samples.  Use df.groupby() to get the mean hair count when grouped by plant and side.  If you want to retain genotype as well you will have to list that too"
   ]
  },
  {
   "cell_type": "code",
   "execution_count": null,
   "id": "451fc500",
   "metadata": {},
   "outputs": [],
   "source": []
  }
 ],
 "metadata": {
  "kernelspec": {
   "display_name": "Python 3 (ipykernel)",
   "language": "python",
   "name": "python3"
  },
  "language_info": {
   "codemirror_mode": {
    "name": "ipython",
    "version": 3
   },
   "file_extension": ".py",
   "mimetype": "text/x-python",
   "name": "python",
   "nbconvert_exporter": "python",
   "pygments_lexer": "ipython3",
   "version": "3.8.13"
  }
 },
 "nbformat": 4,
 "nbformat_minor": 5
}
